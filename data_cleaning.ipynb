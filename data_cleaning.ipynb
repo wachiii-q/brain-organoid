{
 "cells": [
  {
   "cell_type": "code",
   "execution_count": 1,
   "id": "7dcccf11",
   "metadata": {},
   "outputs": [],
   "source": [
    "sample_path = \"/Users/wachiii/Workschii/brain-organoid/load_intan_rhs_format/sampledata.rhs\""
   ]
  },
  {
   "cell_type": "code",
   "execution_count": 6,
   "id": "99c0e61a",
   "metadata": {},
   "outputs": [],
   "source": [
    "from brainorganoid.intanutils import load_intan_rhs_format as intan"
   ]
  },
  {
   "cell_type": "code",
   "execution_count": 9,
   "id": "4817b89f",
   "metadata": {},
   "outputs": [
    {
     "name": "stdout",
     "output_type": "stream",
     "text": [
      "\n",
      "Reading Intan Technologies RHS Data File, Version 3.0\n",
      "\n",
      "Found 64 amplifier channels.\n",
      "Found 0 board ADC channels.\n",
      "Found 0 board DAC channels.\n",
      "Found 0 board digital input channels.\n",
      "Found 0 board digital output channels.\n",
      "\n",
      "File contains 2.176 seconds of data.  Amplifiers were sampled at 30.00 kS/s.\n",
      "FINISHED HEADER\n",
      "\n",
      "Allocating memory for data...\n",
      "Reading data from file...\n",
      "10% done...\n",
      "20% done...\n",
      "30% done...\n",
      "40% done...\n",
      "50% done...\n",
      "60% done...\n",
      "70% done...\n",
      "80% done...\n",
      "90% done...\n",
      "Parsing data...\n",
      "No missing timestamps in data.\n",
      "Done!  Elapsed time: 0.2 seconds\n",
      "2.176\n"
     ]
    }
   ],
   "source": [
    "_, duration = intan.read_data(sample_path)\n",
    "print(duration)"
   ]
  },
  {
   "cell_type": "code",
   "execution_count": null,
   "id": "38765104",
   "metadata": {},
   "outputs": [],
   "source": []
  }
 ],
 "metadata": {
  "kernelspec": {
   "display_name": "brain-organoid",
   "language": "python",
   "name": "python3"
  },
  "language_info": {
   "codemirror_mode": {
    "name": "ipython",
    "version": 3
   },
   "file_extension": ".py",
   "mimetype": "text/x-python",
   "name": "python",
   "nbconvert_exporter": "python",
   "pygments_lexer": "ipython3",
   "version": "3.12.9"
  }
 },
 "nbformat": 4,
 "nbformat_minor": 5
}
